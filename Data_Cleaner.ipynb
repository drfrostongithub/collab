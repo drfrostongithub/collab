{
  "nbformat": 4,
  "nbformat_minor": 0,
  "metadata": {
    "colab": {
      "provenance": [],
      "authorship_tag": "ABX9TyO0DcuLGgOC0OIz4umO21pv",
      "include_colab_link": true
    },
    "kernelspec": {
      "name": "python3",
      "display_name": "Python 3"
    },
    "language_info": {
      "name": "python"
    }
  },
  "cells": [
    {
      "cell_type": "markdown",
      "metadata": {
        "id": "view-in-github",
        "colab_type": "text"
      },
      "source": [
        "<a href=\"https://colab.research.google.com/github/drfrostongithub/collab/blob/main/Data_Cleaner.ipynb\" target=\"_parent\"><img src=\"https://colab.research.google.com/assets/colab-badge.svg\" alt=\"Open In Colab\"/></a>"
      ]
    },
    {
      "cell_type": "code",
      "execution_count": null,
      "metadata": {
        "colab": {
          "base_uri": "https://localhost:8080/"
        },
        "id": "t7l-7IkuBzD0",
        "outputId": "4b04cfce-1f91-4b38-c6bd-2273d87c331d"
      },
      "outputs": [
        {
          "output_type": "stream",
          "name": "stdout",
          "text": [
            "✅ Cleaning complete!\n",
            "Rows before: 140 | Rows after: 133\n",
            "Cleaned file saved as: Thesis_Questionnaire_Cleaned_v2.csv\n"
          ]
        }
      ],
      "source": [
        "import pandas as pd\n",
        "\n",
        "# Step 1: Load your CSV file\n",
        "file_path = \"kuesioner.csv\"  # change path if needed\n",
        "df = pd.read_csv(file_path)\n",
        "\n",
        "# Step 2: Clean rows where the column equals \"Tidak pernah menggunakan\"\n",
        "df_cleaned = df[df[\"Apakah anda .... Github Copilot\"].str.strip().str.lower() != \"tidak pernah menggunakan\"]\n",
        "\n",
        "# Step 3: Sort ascending based on that column\n",
        "df_sorted = df_cleaned.sort_values(by=\"Apakah anda .... Github Copilot\", ascending=True)\n",
        "\n",
        "# Step 4: Save to a new CSV file\n",
        "output_path = \"Thesis_Questionnaire_Cleaned_v2.csv\"\n",
        "df_sorted.to_csv(output_path, index=True)\n",
        "\n",
        "print(\"✅ Cleaning complete!\")\n",
        "print(f\"Rows before: {len(df)} | Rows after: {len(df_sorted)}\")\n",
        "print(f\"Cleaned file saved as: {output_path}\")"
      ]
    }
  ]
}